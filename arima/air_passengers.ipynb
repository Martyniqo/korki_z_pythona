{
 "cells": [
  {
   "cell_type": "markdown",
   "metadata": {},
   "source": [
    "Autoregresyjna zintegrowana średnia ruchoma (ARIMA) odnosi się do modelu analizy statystycznej wykorzystującego dane szeregów czasowych w celu lepszego zrozumienia zestawu danych lub prognozowania przyszłych trendów.\n",
    "\n",
    "![arima](../pics/arima.png)"
   ]
  },
  {
   "cell_type": "markdown",
   "metadata": {},
   "source": [
    "### Prognozowanie Liczby Pasażerów Lotniczych na podstawie danych historycznych\n",
    "https://www.kaggle.com/datasets/rakannimer/air-passengers\n",
    "#### Cel:  \n",
    "Prognozowanie liczby pasażerów podróżujących samolotami na podstawie danych szeregów czasowych.  \n",
    "Jest to typowy problem analizy szeregów czasowych.  \n",
    "\n",
    "#### Atrybuty zbioru danych:  \n",
    "- **Month:** Miesiąc i rok.  \n",
    "- **#Passengers:** Liczba pasażerów podróżujących samolotami.\n"
   ]
  },
  {
   "cell_type": "code",
   "execution_count": 1,
   "metadata": {},
   "outputs": [],
   "source": [
    "import pandas as pd\n",
    "import matplotlib.pyplot as plt\n",
    "import seaborn as sns"
   ]
  },
  {
   "cell_type": "code",
   "execution_count": null,
   "metadata": {},
   "outputs": [],
   "source": [
    "customers = pd.read_csv('../data/ecommerce_customers')"
   ]
  }
 ],
 "metadata": {
  "kernelspec": {
   "display_name": "env",
   "language": "python",
   "name": "python3"
  },
  "language_info": {
   "codemirror_mode": {
    "name": "ipython",
    "version": 3
   },
   "file_extension": ".py",
   "mimetype": "text/x-python",
   "name": "python",
   "nbconvert_exporter": "python",
   "pygments_lexer": "ipython3",
   "version": "3.12.0"
  }
 },
 "nbformat": 4,
 "nbformat_minor": 2
}
